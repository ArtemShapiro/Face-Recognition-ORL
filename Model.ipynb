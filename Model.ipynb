{
 "cells": [
  {
   "cell_type": "code",
   "execution_count": 1,
   "metadata": {},
   "outputs": [],
   "source": [
    "%run ./Utils.ipynb"
   ]
  },
  {
   "cell_type": "code",
   "execution_count": 2,
   "metadata": {},
   "outputs": [
    {
     "name": "stdout",
     "output_type": "stream",
     "text": [
      "(320, 10304) (320,) (80, 10304) (80,)\n"
     ]
    }
   ],
   "source": [
    "# Load dataset function\n",
    "def load_dataset():\n",
    "    train_X = np.load(f\"train_{COLLECTION_FILE_NAME}_x.npy\")\n",
    "    train_Y = np.load(f\"train_{COLLECTION_FILE_NAME}_y.npy\")\n",
    "    test_X = np.load(f\"test_{COLLECTION_FILE_NAME}_x.npy\")\n",
    "    test_Y = np.load(f\"test_{COLLECTION_FILE_NAME}_y.npy\")\n",
    "    return train_X, train_Y, test_X, test_Y\n",
    "    \n",
    "X_train, Y_train, X_test, Y_test = load_dataset() \n",
    "print(X_train.shape, Y_train.shape, X_test.shape, Y_test.shape)"
   ]
  },
  {
   "cell_type": "code",
   "execution_count": 3,
   "metadata": {},
   "outputs": [
    {
     "name": "stdout",
     "output_type": "stream",
     "text": [
      "(320, 10304) (320,)\n"
     ]
    }
   ],
   "source": [
    "# Extra shuffle for samples\n",
    "def shuffle_samples(x, y):\n",
    "    data = np.concatenate((x, y.reshape(-1,1)), axis=1)\n",
    "    np.random.shuffle(data)\n",
    "    return data[:,:-1] , data[:,-1]\n",
    "\n",
    "X_train, Y_train = shuffle_samples(X_train, Y_train)\n",
    "print(X_train.shape, Y_train.shape)"
   ]
  },
  {
   "cell_type": "code",
   "execution_count": 4,
   "metadata": {},
   "outputs": [
    {
     "name": "stdout",
     "output_type": "stream",
     "text": [
      "(80, 10304) 0.44243154666758017\n",
      "(320, 10304) 0.4415062551854986\n"
     ]
    }
   ],
   "source": [
    "# Default scaling\n",
    "def minmaxscaler(samples):\n",
    "    return samples/255.\n",
    "\n",
    "# Scale images A\n",
    "def scale_by_mean(samples, axis=0):\n",
    "    mean = np.mean(samples, axis=axis)\n",
    "    mean = mean.reshape(samples.shape[0], -1) if axis == 1 else mean\n",
    "    return samples - mean\n",
    "\n",
    "# Scale images B\n",
    "def scale_by_mean_std(samples, axis=0):\n",
    "    std = np.std(samples, axis=axis)\n",
    "    std = std.reshape(samples.shape[0], -1) if axis == 1 else std\n",
    "    return scale_by_mean(samples, axis)/std\n",
    "\n",
    "X_train = minmaxscaler(X_train)\n",
    "X_test  = minmaxscaler(X_test)\n",
    "print(X_test.shape, X_test.mean())\n",
    "print(X_train.shape, X_train.mean())"
   ]
  },
  {
   "cell_type": "code",
   "execution_count": 5,
   "metadata": {},
   "outputs": [
    {
     "name": "stdout",
     "output_type": "stream",
     "text": [
      "(320, 202) (80, 202)\n"
     ]
    }
   ],
   "source": [
    "# PCA REALIZATION\n",
    "from sklearn.decomposition import PCA\n",
    "\n",
    "def vector_by_pca(train, test):\n",
    "    pca = PCA(.97)\n",
    "    pca.fit(train)\n",
    "    return pca.transform(train), pca.transform(test)\n",
    "\n",
    "X_train_PCA, X_test_PCA = vector_by_pca(X_train, X_test)\n",
    "print(X_train_PCA.shape, X_test_PCA.shape)"
   ]
  },
  {
   "cell_type": "code",
   "execution_count": 6,
   "metadata": {},
   "outputs": [],
   "source": [
    "# Model realization\n",
    "from scipy import stats\n",
    "\n",
    "def euclidean_distance(q, p):\n",
    "    return np.sqrt(np.sum((q - p)**2, axis=1))\n",
    "    \n",
    "def model(X_train, y_train, X_test, y_test, K):\n",
    "    predict = np.zeros(X_test.shape[0])\n",
    "    for i in range(X_test.shape[0]):\n",
    "        euclid_dist = euclidean_distance(X_train, X_test[i])\n",
    "        indices = np.argsort(euclid_dist)[:K]\n",
    "        \n",
    "        predict[i] = stats.mode(y_train[indices])[0] == y_test[i]\n",
    "    return predict.mean()"
   ]
  },
  {
   "cell_type": "code",
   "execution_count": 7,
   "metadata": {},
   "outputs": [
    {
     "data": {
      "text/plain": [
       "0.95"
      ]
     },
     "execution_count": 7,
     "metadata": {},
     "output_type": "execute_result"
    }
   ],
   "source": [
    "d = model(X_train, Y_train, X_test, Y_test.reshape(-1, 1), 1)\n",
    "d"
   ]
  }
 ],
 "metadata": {
  "kernelspec": {
   "display_name": "Python 3",
   "language": "python",
   "name": "python3"
  },
  "language_info": {
   "codemirror_mode": {
    "name": "ipython",
    "version": 3
   },
   "file_extension": ".py",
   "mimetype": "text/x-python",
   "name": "python",
   "nbconvert_exporter": "python",
   "pygments_lexer": "ipython3",
   "version": "3.7.2"
  }
 },
 "nbformat": 4,
 "nbformat_minor": 2
}
