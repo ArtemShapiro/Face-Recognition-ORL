{
 "cells": [
  {
   "cell_type": "code",
   "execution_count": 1,
   "metadata": {},
   "outputs": [],
   "source": [
    "%run ./Utils.ipynb"
   ]
  },
  {
   "cell_type": "code",
   "execution_count": 2,
   "metadata": {},
   "outputs": [
    {
     "name": "stdout",
     "output_type": "stream",
     "text": [
      "(320, 10304) (320,) (80, 10304) (80,)\n"
     ]
    }
   ],
   "source": [
    "# Load dataset function\n",
    "def load_dataset():\n",
    "    train_X = np.load(f\"train_{COLLECTION_FILE_NAME}_x.npy\")\n",
    "    train_Y = np.load(f\"train_{COLLECTION_FILE_NAME}_y.npy\")\n",
    "    test_X = np.load(f\"test_{COLLECTION_FILE_NAME}_x.npy\")\n",
    "    test_Y = np.load(f\"test_{COLLECTION_FILE_NAME}_y.npy\")\n",
    "    return train_X, train_Y, test_X, test_Y\n",
    "    \n",
    "X_train, Y_train, X_test, Y_test = load_dataset() \n",
    "print(X_train.shape, Y_train.shape, X_test.shape, Y_test.shape)"
   ]
  },
  {
   "cell_type": "code",
   "execution_count": 3,
   "metadata": {},
   "outputs": [
    {
     "name": "stdout",
     "output_type": "stream",
     "text": [
      "(320, 10304) (320,)\n"
     ]
    }
   ],
   "source": [
    "# Extra shuffle for samples\n",
    "def shuffle_samples(x, y):\n",
    "    data = np.concatenate((x, y.reshape(-1,1)), axis=1)\n",
    "    np.random.shuffle(data)\n",
    "    return data[:,:-1] , data[:,-1]\n",
    "\n",
    "X_train, Y_train = shuffle_samples(X_train, Y_train)\n",
    "print(X_train.shape, Y_train.shape)"
   ]
  },
  {
   "cell_type": "code",
   "execution_count": 4,
   "metadata": {},
   "outputs": [
    {
     "name": "stdout",
     "output_type": "stream",
     "text": [
      "(80, 10304) 0.44243154666758017\n",
      "(320, 10304) 0.4415062551854979\n"
     ]
    }
   ],
   "source": [
    "# Default scaling\n",
    "def minmaxscaler(samples):\n",
    "    return samples/255.\n",
    "\n",
    "# Scale images A\n",
    "def scale_by_mean(samples, axis=0):\n",
    "    mean = np.mean(samples, axis=axis)\n",
    "    mean = mean.reshape(samples.shape[0], -1) if axis == 1 else mean\n",
    "    return samples - mean\n",
    "\n",
    "# Scale images B\n",
    "def scale_by_mean_std(samples, axis=0):\n",
    "    std = np.std(samples, axis=axis)\n",
    "    std = std.reshape(samples.shape[0], -1) if axis == 1 else std\n",
    "    return scale_by_mean(samples, axis)/std\n",
    "\n",
    "X_train = minmaxscaler(X_train)\n",
    "X_test  = minmaxscaler(X_test)\n",
    "print(X_test.shape, X_test.mean())\n",
    "print(X_train.shape, X_train.mean())"
   ]
  },
  {
   "cell_type": "code",
   "execution_count": 5,
   "metadata": {},
   "outputs": [],
   "source": [
    "# PCA realization\n",
    "def get_data(A):\n",
    "    # calculate the mean of each column\n",
    "    M = np.mean(A, axis=0)\n",
    "    # center columns by subtracting column means\n",
    "    return A - M\n",
    "\n",
    "def get_eigendecomposition(C):\n",
    "    # eigendecomposition of covariance matrix\n",
    "    vectors, values,_ = np.linalg.svd(C.T)\n",
    "    \n",
    "    explained_variance = (values ** 2) / (C.shape[0] - 1)\n",
    "    \n",
    "    total_var = explained_variance.sum()\n",
    "    explained_variance_ratio = explained_variance / total_var\n",
    "    \n",
    "    return values, vectors, explained_variance, explained_variance_ratio\n",
    "\n",
    "def explained_variance(values):\n",
    "    container = []\n",
    "    accumulator = 0. \n",
    "\n",
    "    for i in values:\n",
    "        if accumulator <= .95:\n",
    "            accumulator += i\n",
    "            container.append(i)\n",
    "    \n",
    "    return np.asarray(container)\n",
    "\n",
    "def reduce_dimensions(matrix_W, n_comp, C):\n",
    "    return C.dot(matrix_W.T[:n_comp.shape[0]].T)"
   ]
  },
  {
   "cell_type": "code",
   "execution_count": 6,
   "metadata": {},
   "outputs": [],
   "source": [
    "# Fit X_train\n",
    "train_matrix_C = get_data(X_train)\n",
    "eigen_values, eigen_vectors,exp_var, exp_ratio = get_eigendecomposition(train_matrix_C)\n",
    "\n",
    "exp_ratio_n_comp = explained_variance(exp_ratio)"
   ]
  },
  {
   "cell_type": "code",
   "execution_count": 7,
   "metadata": {
    "scrolled": false
   },
   "outputs": [
    {
     "name": "stdout",
     "output_type": "stream",
     "text": [
      "(320, 161)\n"
     ]
    }
   ],
   "source": [
    "# Transform X_train\n",
    "X_train_PCA = reduce_dimensions(eigen_vectors, exp_ratio_n_comp, train_matrix_C)\n",
    "print(X_train_PCA.shape)"
   ]
  },
  {
   "cell_type": "code",
   "execution_count": 8,
   "metadata": {
    "scrolled": false
   },
   "outputs": [
    {
     "name": "stdout",
     "output_type": "stream",
     "text": [
      "(80, 161)\n"
     ]
    }
   ],
   "source": [
    "# Transform X_test\n",
    "test_matrix_C = get_data(X_test)\n",
    "\n",
    "X_test_PCA = reduce_dimensions(eigen_vectors, exp_ratio_n_comp, test_matrix_C)\n",
    "print(X_test_PCA.shape)"
   ]
  },
  {
   "cell_type": "code",
   "execution_count": 9,
   "metadata": {},
   "outputs": [],
   "source": [
    "# Model realization\n",
    "from scipy import stats\n",
    "\n",
    "def euclidean_distance(q, p):\n",
    "    return np.sqrt(np.sum((q - p)**2, axis=1))\n",
    "    \n",
    "def model(X_train, y_train, X_test, y_test, K):\n",
    "    predict = np.zeros(X_test.shape[0])\n",
    "    for i in range(X_test.shape[0]):\n",
    "        euclid_dist = euclidean_distance(X_train, X_test[i])\n",
    "        indices = np.argsort(euclid_dist)[:K]\n",
    "        \n",
    "        predict[i] = stats.mode(y_train[indices])[0] == y_test[i]\n",
    "    return predict.mean()"
   ]
  },
  {
   "cell_type": "code",
   "execution_count": 10,
   "metadata": {},
   "outputs": [
    {
     "data": {
      "text/plain": [
       "0.9375"
      ]
     },
     "execution_count": 10,
     "metadata": {},
     "output_type": "execute_result"
    }
   ],
   "source": [
    "d = model(X_train_PCA, Y_train, X_test_PCA, Y_test.reshape(-1, 1), 1)\n",
    "d"
   ]
  }
 ],
 "metadata": {
  "kernelspec": {
   "display_name": "Python 3",
   "language": "python",
   "name": "python3"
  },
  "language_info": {
   "codemirror_mode": {
    "name": "ipython",
    "version": 3
   },
   "file_extension": ".py",
   "mimetype": "text/x-python",
   "name": "python",
   "nbconvert_exporter": "python",
   "pygments_lexer": "ipython3",
   "version": "3.7.2"
  }
 },
 "nbformat": 4,
 "nbformat_minor": 2
}
