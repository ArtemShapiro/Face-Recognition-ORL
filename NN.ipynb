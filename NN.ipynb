{
 "cells": [
  {
   "cell_type": "code",
   "execution_count": 1,
   "metadata": {},
   "outputs": [],
   "source": [
    "import numpy as np\n",
    "from PIL import Image"
   ]
  },
  {
   "cell_type": "code",
   "execution_count": 85,
   "metadata": {},
   "outputs": [],
   "source": [
    "N_CLASS = 40\n",
    "N_SAMPLES = 10\n",
    "TEST_PERCENTAGE = 0.2\n",
    "COLLECTION_FILE_NAME = 'data' "
   ]
  },
  {
   "cell_type": "code",
   "execution_count": 106,
   "metadata": {},
   "outputs": [
    {
     "name": "stdout",
     "output_type": "stream",
     "text": [
      "(80, 2) (320, 2)\n",
      "CPU times: user 469 ms, sys: 156 ms, total: 625 ms\n",
      "Wall time: 727 ms\n"
     ]
    }
   ],
   "source": [
    "%%time\n",
    "\n",
    "def read_data():    \n",
    "    train_df = []\n",
    "    test_df = []\n",
    "    for i in range(N_CLASS):\n",
    "        for img_num in range(N_SAMPLES):\n",
    "            image = np.array(Image.open(\n",
    "                f\"orl_faces/s{i + 1}/{img_num + 1}.pgm\").getdata())\n",
    "            if (img_num in range(N_SAMPLES)[-int(N_SAMPLES*TEST_PERCENTAGE):]):\n",
    "                test_df.append([image, i])\n",
    "            else:\n",
    "                train_df.append([image, i])\n",
    "    return np.array(train_df), np.array(test_df)\n",
    "\n",
    "train, test = read_data()\n",
    "print(test.shape, train.shape)\n",
    "\n",
    "np.save(f\"train_{COLLECTION_FILE_NAME}\", train)\n",
    "np.save(f\"test_{COLLECTION_FILE_NAME}\", test)"
   ]
  },
  {
   "cell_type": "code",
   "execution_count": 105,
   "metadata": {},
   "outputs": [
    {
     "name": "stdout",
     "output_type": "stream",
     "text": [
      "(320,) (320,) (80,) (80,)\n"
     ]
    }
   ],
   "source": [
    "def load_dataset():\n",
    "    train = np.load(f\"train_{COLLECTION_FILE_NAME}.npy\")\n",
    "    test = np.load(f\"test_{COLLECTION_FILE_NAME}.npy\")\n",
    "    return train[:,0], train[:,1], test[:,0], test[:,1]\n",
    "    \n",
    "X_train, Y_train, X_test, Y_test = load_dataset() \n",
    "print(X_train.shape, Y_train.shape, X_test.shape, Y_test.shape)"
   ]
  }
 ],
 "metadata": {
  "kernelspec": {
   "display_name": "Python 3",
   "language": "python",
   "name": "python3"
  },
  "language_info": {
   "codemirror_mode": {
    "name": "ipython",
    "version": 3
   },
   "file_extension": ".py",
   "mimetype": "text/x-python",
   "name": "python",
   "nbconvert_exporter": "python",
   "pygments_lexer": "ipython3",
   "version": "3.7.2"
  }
 },
 "nbformat": 4,
 "nbformat_minor": 2
}
